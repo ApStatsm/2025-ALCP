{
 "cells": [
  {
   "cell_type": "markdown",
   "id": "5e0bd82a-9901-406e-98f9-66483551d678",
   "metadata": {},
   "source": [
    "캬.... 아주 멋있는 사람이 기본적인 케라스를 활용해서 이 문제를 해결하는 방법에 대한 노트북을 만들어놨네요.   \n",
    "keras LSTM을 사용해서 할 예정이라고 하고요, 초보자들을 위해 만드셨대요. 박수~"
   ]
  },
  {
   "cell_type": "markdown",
   "id": "26ab695b-d7bb-4d33-99c0-f4d0baaa6369",
   "metadata": {},
   "source": [
    "일단 기본 케라스 라이브러리를 불러와 봅시다. "
   ]
  },
  {
   "cell_type": "code",
   "execution_count": 1,
   "id": "74f3fa1e-3a07-4a7b-9430-14517b58834b",
   "metadata": {},
   "outputs": [],
   "source": [
    "import sys, os, re, csv, codecs, numpy as np, pandas as pd\n",
    "import matplotlib.pyplot as plt\n",
    "%matplotlib inline\n",
    "from tensorflow.keras.preprocessing.text import Tokenizer\n",
    "from tensorflow.keras.preprocessing.sequence import pad_sequences\n",
    "from tensorflow.keras.layers import Dense, Input, LSTM, Embedding, Dropout, Activation\n",
    "from tensorflow.keras.layers import Bidirectional, GlobalMaxPool1D\n",
    "from tensorflow.keras.models import Model\n",
    "from tensorflow.keras import initializers, regularizers, constraints, optimizers, layers"
   ]
  },
  {
   "cell_type": "markdown",
   "id": "bafab9f3-bde9-4a81-afb9-1d0b6a43d2a8",
   "metadata": {},
   "source": [
    "파일 불러올게여"
   ]
  },
  {
   "cell_type": "code",
   "execution_count": 2,
   "id": "c5b78b17-dc41-4b3e-a9ec-8c39e0791abe",
   "metadata": {},
   "outputs": [],
   "source": [
    "train = pd.read_csv('/Users/apstat/Desktop/ALCP/KAGGLE 필사/Toxic comment/train.csv')\n",
    "test = pd.read_csv('/Users/apstat/Desktop/ALCP/KAGGLE 필사/Toxic comment/test.csv')"
   ]
  },
  {
   "cell_type": "markdown",
   "id": "01ca9f05-793b-4acb-9431-ff7702e5b052",
   "metadata": {},
   "source": [
    "데이터 함 볼까요?"
   ]
  },
  {
   "cell_type": "code",
   "execution_count": 3,
   "id": "82e2f815-19be-4cd4-86b8-b7aad528c355",
   "metadata": {},
   "outputs": [
    {
     "data": {
      "text/html": [
       "<div>\n",
       "<style scoped>\n",
       "    .dataframe tbody tr th:only-of-type {\n",
       "        vertical-align: middle;\n",
       "    }\n",
       "\n",
       "    .dataframe tbody tr th {\n",
       "        vertical-align: top;\n",
       "    }\n",
       "\n",
       "    .dataframe thead th {\n",
       "        text-align: right;\n",
       "    }\n",
       "</style>\n",
       "<table border=\"1\" class=\"dataframe\">\n",
       "  <thead>\n",
       "    <tr style=\"text-align: right;\">\n",
       "      <th></th>\n",
       "      <th>id</th>\n",
       "      <th>comment_text</th>\n",
       "      <th>toxic</th>\n",
       "      <th>severe_toxic</th>\n",
       "      <th>obscene</th>\n",
       "      <th>threat</th>\n",
       "      <th>insult</th>\n",
       "      <th>identity_hate</th>\n",
       "    </tr>\n",
       "  </thead>\n",
       "  <tbody>\n",
       "    <tr>\n",
       "      <th>0</th>\n",
       "      <td>0000997932d777bf</td>\n",
       "      <td>Explanation\\nWhy the edits made under my usern...</td>\n",
       "      <td>0</td>\n",
       "      <td>0</td>\n",
       "      <td>0</td>\n",
       "      <td>0</td>\n",
       "      <td>0</td>\n",
       "      <td>0</td>\n",
       "    </tr>\n",
       "    <tr>\n",
       "      <th>1</th>\n",
       "      <td>000103f0d9cfb60f</td>\n",
       "      <td>D'aww! He matches this background colour I'm s...</td>\n",
       "      <td>0</td>\n",
       "      <td>0</td>\n",
       "      <td>0</td>\n",
       "      <td>0</td>\n",
       "      <td>0</td>\n",
       "      <td>0</td>\n",
       "    </tr>\n",
       "    <tr>\n",
       "      <th>2</th>\n",
       "      <td>000113f07ec002fd</td>\n",
       "      <td>Hey man, I'm really not trying to edit war. It...</td>\n",
       "      <td>0</td>\n",
       "      <td>0</td>\n",
       "      <td>0</td>\n",
       "      <td>0</td>\n",
       "      <td>0</td>\n",
       "      <td>0</td>\n",
       "    </tr>\n",
       "    <tr>\n",
       "      <th>3</th>\n",
       "      <td>0001b41b1c6bb37e</td>\n",
       "      <td>\"\\nMore\\nI can't make any real suggestions on ...</td>\n",
       "      <td>0</td>\n",
       "      <td>0</td>\n",
       "      <td>0</td>\n",
       "      <td>0</td>\n",
       "      <td>0</td>\n",
       "      <td>0</td>\n",
       "    </tr>\n",
       "    <tr>\n",
       "      <th>4</th>\n",
       "      <td>0001d958c54c6e35</td>\n",
       "      <td>You, sir, are my hero. Any chance you remember...</td>\n",
       "      <td>0</td>\n",
       "      <td>0</td>\n",
       "      <td>0</td>\n",
       "      <td>0</td>\n",
       "      <td>0</td>\n",
       "      <td>0</td>\n",
       "    </tr>\n",
       "  </tbody>\n",
       "</table>\n",
       "</div>"
      ],
      "text/plain": [
       "                 id                                       comment_text  toxic  \\\n",
       "0  0000997932d777bf  Explanation\\nWhy the edits made under my usern...      0   \n",
       "1  000103f0d9cfb60f  D'aww! He matches this background colour I'm s...      0   \n",
       "2  000113f07ec002fd  Hey man, I'm really not trying to edit war. It...      0   \n",
       "3  0001b41b1c6bb37e  \"\\nMore\\nI can't make any real suggestions on ...      0   \n",
       "4  0001d958c54c6e35  You, sir, are my hero. Any chance you remember...      0   \n",
       "\n",
       "   severe_toxic  obscene  threat  insult  identity_hate  \n",
       "0             0        0       0       0              0  \n",
       "1             0        0       0       0              0  \n",
       "2             0        0       0       0              0  \n",
       "3             0        0       0       0              0  \n",
       "4             0        0       0       0              0  "
      ]
     },
     "execution_count": 3,
     "metadata": {},
     "output_type": "execute_result"
    }
   ],
   "source": [
    "train.head()"
   ]
  },
  {
   "cell_type": "markdown",
   "id": "e23d537b-59f9-4d8e-8d89-a256faf965b0",
   "metadata": {},
   "source": [
    "자 그럼 null값이 있나 볼까요?"
   ]
  },
  {
   "cell_type": "code",
   "execution_count": 4,
   "id": "c168ee79-6ed3-45c3-9db3-4af13ac9beca",
   "metadata": {},
   "outputs": [
    {
     "data": {
      "text/plain": [
       "(id               False\n",
       " comment_text     False\n",
       " toxic            False\n",
       " severe_toxic     False\n",
       " obscene          False\n",
       " threat           False\n",
       " insult           False\n",
       " identity_hate    False\n",
       " dtype: bool,\n",
       " id              False\n",
       " comment_text    False\n",
       " dtype: bool)"
      ]
     },
     "execution_count": 4,
     "metadata": {},
     "output_type": "execute_result"
    }
   ],
   "source": [
    "train.isnull().any(),test.isnull().any()"
   ]
  },
  {
   "cell_type": "markdown",
   "id": "0b4a336c-817f-4909-88fb-3982941f7cb1",
   "metadata": {},
   "source": [
    "없네요~"
   ]
  },
  {
   "cell_type": "markdown",
   "id": "a226fce9-6703-429c-bf9b-2c57d7ae56a5",
   "metadata": {},
   "source": [
    "일단 오늘은 전처리를 빡세게는 안할거라고 하네요~"
   ]
  },
  {
   "cell_type": "markdown",
   "id": "770bdae8-d199-45c8-b808-510870a2ad51",
   "metadata": {},
   "source": [
    "종속변수가 훈련 세트에 있어서 일단 거기있는 데이터를 x랑 y로 나눠야한대요."
   ]
  },
  {
   "cell_type": "code",
   "execution_count": 5,
   "id": "ceec28d9-d121-48ad-af2f-135a3302e7d6",
   "metadata": {},
   "outputs": [],
   "source": [
    "list_classes = ['toxic', 'severe_toxic', 'obscene', 'threat', 'insult', 'identity_hate']\n",
    "y = train[list_classes].values\n",
    "list_sentences_train = train['comment_text']\n",
    "list_sentences_test = test['comment_text']"
   ]
  },
  {
   "cell_type": "markdown",
   "id": "5d65e23a-75fe-4b27-bec5-ede941ae3c87",
   "metadata": {},
   "source": [
    "이게 약간 이제 신경망을 사용할건데, LSTM에 댓글을 입력해서 사용하는건데, 이제 이게 단어를 그대로 쓸수가 없잖아요?   \n",
    "그래서 토큰화(단어단위로 자르기)하고, 인덱싱을 할거래요   \n",
    "그럼 이 인ㄷ게스 표현으로 댓글을 나타낼 수 있겠죠?"
   ]
  },
  {
   "cell_type": "markdown",
   "id": "ba72952e-8589-4645-810a-a12395df3f86",
   "metadata": {},
   "source": [
    "케라스에서는 이 모든 단계를 쉽게 만들어놨대요!   \n",
    "근데, 문장을 토큰화할 때는 단어의 최대 개수를 정해야한대요   \n",
    "밑에서는 20000개로 설정했나봐요"
   ]
  },
  {
   "cell_type": "code",
   "execution_count": 6,
   "id": "c1a1028b-4220-4f7c-8674-4851b1c66593",
   "metadata": {},
   "outputs": [],
   "source": [
    "max_features = 20000\n",
    "tokenizer = Tokenizer(num_words=max_features)\n",
    "tokenizer.fit_on_texts (list(list_sentences_train))\n",
    "list_tokenized_train = tokenizer.texts_to_sequences(list_sentences_train)\n",
    "list_tokenized_test = tokenizer.texts_to_sequences(list_sentences_test)"
   ]
  },
  {
   "cell_type": "code",
   "execution_count": 7,
   "id": "d012819b-bb94-44a8-b4a2-f822fedfda80",
   "metadata": {},
   "outputs": [
    {
     "data": {
      "text/plain": [
       "[[688,\n",
       "  75,\n",
       "  1,\n",
       "  126,\n",
       "  130,\n",
       "  177,\n",
       "  29,\n",
       "  672,\n",
       "  4511,\n",
       "  12052,\n",
       "  1116,\n",
       "  86,\n",
       "  331,\n",
       "  51,\n",
       "  2278,\n",
       "  11448,\n",
       "  50,\n",
       "  6864,\n",
       "  15,\n",
       "  60,\n",
       "  2756,\n",
       "  148,\n",
       "  7,\n",
       "  2937,\n",
       "  34,\n",
       "  117,\n",
       "  1221,\n",
       "  15190,\n",
       "  2825,\n",
       "  4,\n",
       "  45,\n",
       "  59,\n",
       "  244,\n",
       "  1,\n",
       "  365,\n",
       "  31,\n",
       "  1,\n",
       "  38,\n",
       "  27,\n",
       "  143,\n",
       "  73,\n",
       "  3462,\n",
       "  89,\n",
       "  3085,\n",
       "  4583,\n",
       "  2273,\n",
       "  985]]"
      ]
     },
     "execution_count": 7,
     "metadata": {},
     "output_type": "execute_result"
    }
   ],
   "source": [
    "list_tokenized_train[:1]"
   ]
  },
  {
   "cell_type": "markdown",
   "id": "6a766281-3a14-4f58-ac4c-3fa0b7c4e1be",
   "metadata": {},
   "source": [
    "근데 여기서 문제가 생기는게 뭐냐면, 댓글마다 길이가 다르니까 댓글별로 인덱스로 이루어진 리스트의 길이가 달라지겠죠?   \n",
    "그래서 패딩을 사용한대요. 부족한거를 0으로 채워서 길이를 일정하게하고, 만약에 문장이 개길다? 그럼 최대길이에 맞춰서 잘라버리는거죠   \n",
    "여기서는 200으로 설정했대여"
   ]
  },
  {
   "cell_type": "code",
   "execution_count": 76,
   "id": "e5a63a43-3af4-495b-9ab9-0bc4bf75ac05",
   "metadata": {},
   "outputs": [],
   "source": [
    "maxlen = 200\n",
    "X_t = pad_sequences(list_tokenized_train, maxlen=maxlen)\n",
    "X_te = pad_sequences(list_tokenized_test, maxlen=maxlen)"
   ]
  },
  {
   "cell_type": "markdown",
   "id": "7f3ead40-2a67-4242-bbae-0da24777cf4c",
   "metadata": {},
   "source": [
    "이 최대 길이를 너무 짧게 설정하면 정확도가 떨어지고, 너무 길어져버리면 아마 속도가 느리겠죠?   \n",
    "그래서 일단 문장에서 단어 분포를 봐볼게여"
   ]
  },
  {
   "cell_type": "code",
   "execution_count": 9,
   "id": "1b593944-c3dd-4d98-a40f-6fb531dfc39f",
   "metadata": {},
   "outputs": [],
   "source": [
    "totalNumWords = [len(one_comment) for one_comment in list_tokenized_train]"
   ]
  },
  {
   "cell_type": "code",
   "execution_count": 10,
   "id": "d70a87fd-db6b-49b8-acc5-398a8e5cdc77",
   "metadata": {},
   "outputs": [
    {
     "data": {
      "image/png": "[encoded data removed]",
      "text/plain": [
       "<Figure size 640x480 with 1 Axes>"
      ]
     },
     "metadata": {},
     "output_type": "display_data"
    }
   ],
   "source": [
    "plt.hist(totalNumWords, bins=np.arange(0,410,10))\n",
    "plt.show()"
   ]
  },
  {
   "cell_type": "markdown",
   "id": "6623852a-43ed-4dd6-af20-cba8d625731c",
   "metadata": {},
   "source": [
    "대부분이 한 100개 언더에서 끊기니께, 200개로 잘라도 되겠죠?  \n",
    "뭐 다른 숫자로 해도 상관없을거같긴한데, 여기서 이렇게 하라니까 하란대로 할게여~  "
   ]
  },
  {
   "cell_type": "markdown",
   "id": "da365728-a409-4073-9349-74e0fcc7a09a",
   "metadata": {},
   "source": [
    "이제 모델 설계한대요..ㄷ"
   ]
  },
  {
   "cell_type": "markdown",
   "id": "0c88c83e-357b-46bf-8bc0-a9834bac8b75",
   "metadata": {},
   "source": [
    "![](https://i.imgur.com/txJomEa.png)"
   ]
  },
  {
   "cell_type": "markdown",
   "id": "fe4326bc-435d-4d8b-95fe-d632cdb1506f",
   "metadata": {},
   "source": [
    "1. input layer   \n",
    "각 문장들을 길이 200의 정수 시퀀스로 표현   \n",
    "(None은 batch size로 학습시 자동으로 결정됨)"
   ]
  },
  {
   "cell_type": "code",
   "execution_count": 12,
   "id": "eee44b7b-4ae6-4876-a6d1-811881ec7a64",
   "metadata": {},
   "outputs": [],
   "source": [
    "# 200개의 정수 시퀀스\n",
    "inp = Input(shape=(maxlen, ))"
   ]
  },
  {
   "cell_type": "markdown",
   "id": "69da0ba1-095b-4f47-a4e0-e53ba3bfeb06",
   "metadata": {},
   "source": [
    "2. embedding layer   \n",
    "각 단어들을 128차원으로 임베딩. 200개의 단어 각각이 128차원으로 바뀜   \n",
    "문장은 (200, 128) 형태로 변함   \n",
    "네트워크가 “단어의 의미 공간”을 학습하는 단계.   \n",
    "이 학습을 통해 단어 간 의미적 유사성이 벡터공간에서 반영되고, 단어들은 벡터공간의 특정 좌표에 위치함.   \n",
    "차원은 단어를 얼마나 정교하게 표현할지를 결정하는 하이퍼파라미터.   \n",
    "차원이 늘어나면, 다른 단어들과 구분할 수 있는 요소가 늘어나는거니까 더 정교하게 비교하는거겠지?   "
   ]
  },
  {
   "cell_type": "code",
   "execution_count": 13,
   "id": "dc24e5e3-c145-4814-a18d-84e067ab5e48",
   "metadata": {},
   "outputs": [],
   "source": [
    "# 128차원으로 임베딩\n",
    "embed_size = 128\n",
    "x = Embedding(max_features, embed_size)(inp)"
   ]
  },
  {
   "cell_type": "markdown",
   "id": "e72c54cb-768b-44be-9167-a46ba5c726f2",
   "metadata": {},
   "source": [
    "3. LSTM layer   \n",
    "시퀀스의 각 시점마다 60차원의 출력을 생성.    \n",
    "128차원의 임베딩을 받아서 60차원의 새로운 출력 벡터를 생성.   \n",
    "Embedding - 단어의 기본 의미를 담은 벡터   \n",
    "LSTM 출력 - 문맥을 반영해 의미를 재구성한 벡터   \n",
    "  \n",
    "return_state   \n",
    "True : 모든 단어들의 의미있는 표현 (각 단어별로 시점별 출력 유지)   \n",
    "False : 전체 문장을 하나의 의미 벡터로 요약 (마지막 단어의 출력 벡터만)   \n",
    "=> 하지만 결국엔 마지막 단어는 이전 단어들과의 유기적인 연결이되어있으므로, 마지막 단어에도 문장 전체의 정보가 담겨있음.   \n",
    "  \n",
    "딥러닝 모델에서는 텍스트를 처리할 때   \n",
    "문장 수 × 단어 수 × 단어 벡터 차원    \n",
    "으로 데이터를 보기 때문에 자연스럽게 3차원 텐서가 됩니다.   \n",
    " \n",
    "LSTM은?   \n",
    "Long Short Term Memory. 순환신경망의 일종. 문장처럼 순서가 중요한 데이터를 다룰때 유용. 과거의 데이터도 기억을 함.   \n",
    "문장의 경우에는 앞에 나온 맥락에 따라서 의미가 다르게 해석될 수 있는 경우가 있음.   \n",
    "일반 RNN은 과거의 정보가 금방 사라지기 떄문에 긴 문장을 처리할때 기울기 소실 문제로 학습이 잘 안됨.   \n",
    "LSTM은 기억셀과 게이트 구조를 통해 이러한 문제를 해결   \n",
    " \n",
    "기억셀 : 중요한 정보를 길게 유지하는 통로   \n",
    "입력 게이트 : 새 정보를 얼마나 기억   \n",
    "포겟 게이트 : 이전 정보를 얼마나 잊을지   \n",
    "출력 게이트 : 현재 셀의 정보를 얼마나 다음셀로 보낼지.   \n",
    " \n",
    "\n",
    "밑에 그림을 보면 x(단어)를 입력하면 128차원 임베딩 층 A를 거쳐서 60차원 h벡터가 출력되고, 그게 단어의 길이(200)만큼 반복된다는 말"
   ]
  },
  {
   "cell_type": "markdown",
   "id": "f3691ae4-a96b-4990-bdd7-8e2af4397a10",
   "metadata": {},
   "source": [
    "![](http://colah.github.io/posts/2015-08-Understanding-LSTMs/img/RNN-unrolled.png)"
   ]
  },
  {
   "cell_type": "code",
   "execution_count": 15,
   "id": "84172a46-2705-4e0b-9c90-b1e78eb2ad4c",
   "metadata": {},
   "outputs": [],
   "source": [
    "# 60차원 lstm, 출력내용 기억, 이름설정?\n",
    "x = LSTM(60, return_sequences=True,name='lstm_layer')(x)"
   ]
  },
  {
   "cell_type": "markdown",
   "id": "e21ac75b-4b73-4e35-830e-91a4214cfe7c",
   "metadata": {},
   "source": [
    "4. Global Max Pooling\n",
    "타임스텝 200개 중 각 feature(60개)에 대해 최댓값만 선택   \n",
    "결과적으로 한 문장은 60차원 벡터로 압축됨.   \n",
    "(None, 200, 60) -> (None,60)   \n",
    "200개중 최댓값이 2차원의 60개로 들어감.   \n",
    "\n",
    "타입스텝 200개중 최댓값이 갖는 의미 :   \n",
    "각 feature(예: 60개) 중 하나는 어떤 개념/의미를 학습하고,   \n",
    "그 feature의 200개 값 중 최댓값 하나는   \n",
    "“이 문장에서 그 의미가 얼마나 강하게 나타났는가“를 나타내는 수치   \n",
    "\n",
    "여기서 feature 60개는 각 단어가 가진 의미 표현의 차원 수인거고, 200개는 문장의 단어수임.   \n",
    "그래서 60개의 의미표현에 대해서 단어 200개 중에 가장 큰 값을 갖는 값을 대표값?으로 사용함. 근데, 그 단어가 뭔지는 모르는거지."
   ]
  },
  {
   "cell_type": "code",
   "execution_count": 16,
   "id": "c33e95b2-fd7a-4892-9682-a78889bb771a",
   "metadata": {},
   "outputs": [],
   "source": [
    "# GlobalMaxpooling\n",
    "x = GlobalMaxPool1D()(x)"
   ]
  },
  {
   "cell_type": "markdown",
   "id": "6d391bc5-e285-4409-8f1a-d39318bef41d",
   "metadata": {},
   "source": [
    "5. Dropout\n",
    "과적합 방지를 위한 무작위 뉴런 끄기.   \n",
    "학습할때 일부 뉴런들을 랜덤으로 꺼서 모델이 데이터를 너무 외워서 과적합이 되는걸 방지함.   \n",
    "학습할때만 적용되고, 테스트할때는 모든 뉴런을 사용해서 예측"
   ]
  },
  {
   "cell_type": "code",
   "execution_count": 17,
   "id": "0149888a-6a52-4768-b3c1-4c3efd62ff2c",
   "metadata": {},
   "outputs": [],
   "source": [
    "# 10% 끄기\n",
    "x = Dropout(0.1)(x)"
   ]
  },
  {
   "cell_type": "markdown",
   "id": "1b7ae9a9-ff44-4429-bbfe-e3389d540671",
   "metadata": {},
   "source": [
    "6. Dense → Dropout → Dense (최종 분류)   \n",
    "Dense(50): 60차원 벡터의 입력값을 받아서 50개의 뉴런에 각각 연결, 50차원의 출력 벡터 생성   \n",
    "=> 50개의 뉴런 각각의 가중합을 계산하고, 비선형 활성화 함수(ReLU)를 거쳐 특정 패턴을 추출   \n",
    "Dropout : Dense(50)에서 받은 패턴을 뉴런을 꺼가면서 학습   \n",
    "Dense(6) : 마지막 출력층으로 최종적으로 문장이 6개 중 어떤 클래스에 속하는지 예측. 보통 softmax함수를 사용."
   ]
  },
  {
   "cell_type": "code",
   "execution_count": 18,
   "id": "3927b8b0-cce8-442d-930f-9d79e03971a9",
   "metadata": {},
   "outputs": [],
   "source": [
    "# ReLU사용\n",
    "x = Dense(50, activation=\"relu\")(x)"
   ]
  },
  {
   "cell_type": "code",
   "execution_count": 19,
   "id": "ae6482d7-e34c-4112-aa2c-54e1e80b0b44",
   "metadata": {},
   "outputs": [],
   "source": [
    "# dropout 한번 더\n",
    "x = Dropout(0.1)(x)"
   ]
  },
  {
   "cell_type": "code",
   "execution_count": 20,
   "id": "abf7b4bf-f783-42e8-8525-b49225ba60b4",
   "metadata": {},
   "outputs": [],
   "source": [
    "# 6개 클래스로 축소\n",
    "# x = Dense(6, activation=\"sigmoid\")(x) "
   ]
  },
  {
   "cell_type": "code",
   "execution_count": 27,
   "id": "4f6df154-b132-45a3-a3cc-a2209f0859aa",
   "metadata": {},
   "outputs": [],
   "source": [
    "# 이진분류인데 왜 6개임?\n",
    "x = Dense(6, activation=\"sigmoid\")(x) "
   ]
  },
  {
   "cell_type": "markdown",
   "id": "0ec440ac-c7c0-48d5-b300-12ba152493e9",
   "metadata": {},
   "source": [
    "![](https://i.imgur.com/uSjU4J7.png)\n",
    "대충 이런식으로 입력이 들어간다~! number of samples는 위에서 말한 batch size 인듯?"
   ]
  },
  {
   "cell_type": "code",
   "execution_count": 34,
   "id": "e2e62426-9098-445d-ae52-6b8865a0eb36",
   "metadata": {
    "scrolled": true
   },
   "outputs": [
    {
     "name": "stdout",
     "output_type": "stream",
     "text": [
      "(159571, 200) (159571, 6)\n",
      "[[0 0 0 0 0 0]\n",
      " [0 0 0 0 0 0]\n",
      " [0 0 0 0 0 0]\n",
      " ...\n",
      " [0 0 0 0 0 0]\n",
      " [0 0 0 0 0 0]\n",
      " [0 0 0 0 0 0]]\n"
     ]
    }
   ],
   "source": [
    "print(X_t.shape, y.shape)\n",
    "print(y)"
   ]
  },
  {
   "cell_type": "markdown",
   "id": "4ff0ea34-dea9-4e5c-a795-3289f7691e03",
   "metadata": {},
   "source": [
    "주어진 모델"
   ]
  },
  {
   "cell_type": "code",
   "execution_count": 39,
   "id": "fc96c144-a671-4de3-b157-30079a750ff6",
   "metadata": {},
   "outputs": [],
   "source": [
    "# 모델 설정할게요\n",
    "# 추가 지표 설정\n",
    "from tensorflow.keras.metrics import AUC, Precision, Recall\n",
    "\n",
    "model1 = Model(inputs=inp, outputs=x)\n",
    "model1.compile(loss='binary_crossentropy',\n",
    "                  optimizer='adam',\n",
    "                  metrics=['accuracy', Precision(), Recall(), AUC()])"
   ]
  },
  {
   "cell_type": "code",
   "execution_count": 41,
   "id": "4ae58a95-5721-427f-af1b-42fd4df62cf5",
   "metadata": {},
   "outputs": [
    {
     "name": "stdout",
     "output_type": "stream",
     "text": [
      "Epoch 1/2\n",
      "\u001b[1m4488/4488\u001b[0m \u001b[32m━━━━━━━━━━━━━━━━━━━━\u001b[0m\u001b[37m\u001b[0m \u001b[1m178s\u001b[0m 40ms/step - accuracy: 0.9942 - auc: 0.7499 - loss: 0.1414 - precision: 0.0000e+00 - recall: 0.0000e+00 - val_accuracy: 0.9940 - val_auc: 0.7510 - val_loss: 0.1423 - val_precision: 0.0000e+00 - val_recall: 0.0000e+00\n",
      "Epoch 2/2\n",
      "\u001b[1m4488/4488\u001b[0m \u001b[32m━━━━━━━━━━━━━━━━━━━━\u001b[0m\u001b[37m\u001b[0m \u001b[1m179s\u001b[0m 40ms/step - accuracy: 0.9938 - auc: 0.7504 - loss: 0.1416 - precision: 0.0000e+00 - recall: 0.0000e+00 - val_accuracy: 0.9940 - val_auc: 0.7525 - val_loss: 0.1422 - val_precision: 0.0000e+00 - val_recall: 0.0000e+00\n"
     ]
    },
    {
     "data": {
      "text/plain": [
       "<keras.src.callbacks.history.History at 0x326004830>"
      ]
     },
     "execution_count": 41,
     "metadata": {},
     "output_type": "execute_result"
    }
   ],
   "source": [
    "batch_size = 32\n",
    "epochs = 2\n",
    "model1.fit(X_t,y, batch_size=batch_size, epochs=epochs, validation_split=0.1)"
   ]
  },
  {
   "cell_type": "markdown",
   "id": "96646623-9eb7-42b6-be74-b3a523047b4a",
   "metadata": {},
   "source": [
    "왜 precision이랑 recall 이 0이지? => 양성으로 예측한게 없는건가?"
   ]
  },
  {
   "cell_type": "markdown",
   "id": "1293254a-a5af-4598-b19b-9179526ec591",
   "metadata": {},
   "source": [
    "accuracy : 전체 샘플 중 정답을 맞춘 비율   \n",
    "precision : 맞다고 예측한 것 중 실제로 맞은 비율   \n",
    "recall : 실제로 맞아야 하는것 중 맞춘 비율   \n",
    "auc : roc곡선 아래 면적   \n",
    "f1 : 2 x (precision x recall) / (precision + recall)   "
   ]
  },
  {
   "cell_type": "markdown",
   "id": "6d6c2107-075b-4d6d-91cf-d501c8fe97c1",
   "metadata": {},
   "source": [
    "정답 클래스의 확률이 높을수록 → 낮은 loss   \n",
    "정답이긴 한데 불확실하게 찍은 경우(클래스별 확률 차이가 크지 않음) → 높은 loss   \n",
    "틀렸는데 엄청 확신한 경우(이건 뭐 쓰레기지) → 더 높은 loss   \n",
    "\n",
    "=> 정확도도 중요하지만, loss가 큰 경우에는 조심해야 한다..."
   ]
  },
  {
   "cell_type": "code",
   "execution_count": 37,
   "id": "343e278c-bac1-4fac-b572-34519ffeb0b6",
   "metadata": {},
   "outputs": [
    {
     "data": {
      "text/html": [
       "<pre style=\"white-space:pre;overflow-x:auto;line-height:normal;font-family:Menlo,'DejaVu Sans Mono',consolas,'Courier New',monospace\"><span style=\"font-weight: bold\">Model: \"functional_1\"</span>\n",
       "</pre>\n"
      ],
      "text/plain": [
       "\u001b[1mModel: \"functional_1\"\u001b[0m\n"
      ]
     },
     "metadata": {},
     "output_type": "display_data"
    },
    {
     "data": {
      "text/html": [
       "<pre style=\"white-space:pre;overflow-x:auto;line-height:normal;font-family:Menlo,'DejaVu Sans Mono',consolas,'Courier New',monospace\">┏━━━━━━━━━━━━━━━━━━━━━━━━━━━━━━━━━┳━━━━━━━━━━━━━━━━━━━━━━━━┳━━━━━━━━━━━━━━━┓\n",
       "┃<span style=\"font-weight: bold\"> Layer (type)                    </span>┃<span style=\"font-weight: bold\"> Output Shape           </span>┃<span style=\"font-weight: bold\">       Param # </span>┃\n",
       "┡━━━━━━━━━━━━━━━━━━━━━━━━━━━━━━━━━╇━━━━━━━━━━━━━━━━━━━━━━━━╇━━━━━━━━━━━━━━━┩\n",
       "│ input_layer (<span style=\"color: #0087ff; text-decoration-color: #0087ff\">InputLayer</span>)        │ (<span style=\"color: #00d7ff; text-decoration-color: #00d7ff\">None</span>, <span style=\"color: #00af00; text-decoration-color: #00af00\">200</span>)            │             <span style=\"color: #00af00; text-decoration-color: #00af00\">0</span> │\n",
       "├─────────────────────────────────┼────────────────────────┼───────────────┤\n",
       "│ embedding (<span style=\"color: #0087ff; text-decoration-color: #0087ff\">Embedding</span>)           │ (<span style=\"color: #00d7ff; text-decoration-color: #00d7ff\">None</span>, <span style=\"color: #00af00; text-decoration-color: #00af00\">200</span>, <span style=\"color: #00af00; text-decoration-color: #00af00\">128</span>)       │     <span style=\"color: #00af00; text-decoration-color: #00af00\">2,560,000</span> │\n",
       "├─────────────────────────────────┼────────────────────────┼───────────────┤\n",
       "│ lstm_layer (<span style=\"color: #0087ff; text-decoration-color: #0087ff\">LSTM</span>)               │ (<span style=\"color: #00d7ff; text-decoration-color: #00d7ff\">None</span>, <span style=\"color: #00af00; text-decoration-color: #00af00\">200</span>, <span style=\"color: #00af00; text-decoration-color: #00af00\">60</span>)        │        <span style=\"color: #00af00; text-decoration-color: #00af00\">45,360</span> │\n",
       "├─────────────────────────────────┼────────────────────────┼───────────────┤\n",
       "│ global_max_pooling1d            │ (<span style=\"color: #00d7ff; text-decoration-color: #00d7ff\">None</span>, <span style=\"color: #00af00; text-decoration-color: #00af00\">60</span>)             │             <span style=\"color: #00af00; text-decoration-color: #00af00\">0</span> │\n",
       "│ (<span style=\"color: #0087ff; text-decoration-color: #0087ff\">GlobalMaxPooling1D</span>)            │                        │               │\n",
       "├─────────────────────────────────┼────────────────────────┼───────────────┤\n",
       "│ dropout (<span style=\"color: #0087ff; text-decoration-color: #0087ff\">Dropout</span>)               │ (<span style=\"color: #00d7ff; text-decoration-color: #00d7ff\">None</span>, <span style=\"color: #00af00; text-decoration-color: #00af00\">60</span>)             │             <span style=\"color: #00af00; text-decoration-color: #00af00\">0</span> │\n",
       "├─────────────────────────────────┼────────────────────────┼───────────────┤\n",
       "│ dense (<span style=\"color: #0087ff; text-decoration-color: #0087ff\">Dense</span>)                   │ (<span style=\"color: #00d7ff; text-decoration-color: #00d7ff\">None</span>, <span style=\"color: #00af00; text-decoration-color: #00af00\">50</span>)             │         <span style=\"color: #00af00; text-decoration-color: #00af00\">3,050</span> │\n",
       "├─────────────────────────────────┼────────────────────────┼───────────────┤\n",
       "│ dropout_1 (<span style=\"color: #0087ff; text-decoration-color: #0087ff\">Dropout</span>)             │ (<span style=\"color: #00d7ff; text-decoration-color: #00d7ff\">None</span>, <span style=\"color: #00af00; text-decoration-color: #00af00\">50</span>)             │             <span style=\"color: #00af00; text-decoration-color: #00af00\">0</span> │\n",
       "├─────────────────────────────────┼────────────────────────┼───────────────┤\n",
       "│ dense_1 (<span style=\"color: #0087ff; text-decoration-color: #0087ff\">Dense</span>)                 │ (<span style=\"color: #00d7ff; text-decoration-color: #00d7ff\">None</span>, <span style=\"color: #00af00; text-decoration-color: #00af00\">1</span>)              │            <span style=\"color: #00af00; text-decoration-color: #00af00\">51</span> │\n",
       "├─────────────────────────────────┼────────────────────────┼───────────────┤\n",
       "│ dense_2 (<span style=\"color: #0087ff; text-decoration-color: #0087ff\">Dense</span>)                 │ (<span style=\"color: #00d7ff; text-decoration-color: #00d7ff\">None</span>, <span style=\"color: #00af00; text-decoration-color: #00af00\">6</span>)              │            <span style=\"color: #00af00; text-decoration-color: #00af00\">12</span> │\n",
       "└─────────────────────────────────┴────────────────────────┴───────────────┘\n",
       "</pre>\n"
      ],
      "text/plain": [
       "┏━━━━━━━━━━━━━━━━━━━━━━━━━━━━━━━━━┳━━━━━━━━━━━━━━━━━━━━━━━━┳━━━━━━━━━━━━━━━┓\n",
       "┃\u001b[1m \u001b[0m\u001b[1mLayer (type)                   \u001b[0m\u001b[1m \u001b[0m┃\u001b[1m \u001b[0m\u001b[1mOutput Shape          \u001b[0m\u001b[1m \u001b[0m┃\u001b[1m \u001b[0m\u001b[1m      Param #\u001b[0m\u001b[1m \u001b[0m┃\n",
       "┡━━━━━━━━━━━━━━━━━━━━━━━━━━━━━━━━━╇━━━━━━━━━━━━━━━━━━━━━━━━╇━━━━━━━━━━━━━━━┩\n",
       "│ input_layer (\u001b[38;5;33mInputLayer\u001b[0m)        │ (\u001b[38;5;45mNone\u001b[0m, \u001b[38;5;34m200\u001b[0m)            │             \u001b[38;5;34m0\u001b[0m │\n",
       "├─────────────────────────────────┼────────────────────────┼───────────────┤\n",
       "│ embedding (\u001b[38;5;33mEmbedding\u001b[0m)           │ (\u001b[38;5;45mNone\u001b[0m, \u001b[38;5;34m200\u001b[0m, \u001b[38;5;34m128\u001b[0m)       │     \u001b[38;5;34m2,560,000\u001b[0m │\n",
       "├─────────────────────────────────┼────────────────────────┼───────────────┤\n",
       "│ lstm_layer (\u001b[38;5;33mLSTM\u001b[0m)               │ (\u001b[38;5;45mNone\u001b[0m, \u001b[38;5;34m200\u001b[0m, \u001b[38;5;34m60\u001b[0m)        │        \u001b[38;5;34m45,360\u001b[0m │\n",
       "├─────────────────────────────────┼────────────────────────┼───────────────┤\n",
       "│ global_max_pooling1d            │ (\u001b[38;5;45mNone\u001b[0m, \u001b[38;5;34m60\u001b[0m)             │             \u001b[38;5;34m0\u001b[0m │\n",
       "│ (\u001b[38;5;33mGlobalMaxPooling1D\u001b[0m)            │                        │               │\n",
       "├─────────────────────────────────┼────────────────────────┼───────────────┤\n",
       "│ dropout (\u001b[38;5;33mDropout\u001b[0m)               │ (\u001b[38;5;45mNone\u001b[0m, \u001b[38;5;34m60\u001b[0m)             │             \u001b[38;5;34m0\u001b[0m │\n",
       "├─────────────────────────────────┼────────────────────────┼───────────────┤\n",
       "│ dense (\u001b[38;5;33mDense\u001b[0m)                   │ (\u001b[38;5;45mNone\u001b[0m, \u001b[38;5;34m50\u001b[0m)             │         \u001b[38;5;34m3,050\u001b[0m │\n",
       "├─────────────────────────────────┼────────────────────────┼───────────────┤\n",
       "│ dropout_1 (\u001b[38;5;33mDropout\u001b[0m)             │ (\u001b[38;5;45mNone\u001b[0m, \u001b[38;5;34m50\u001b[0m)             │             \u001b[38;5;34m0\u001b[0m │\n",
       "├─────────────────────────────────┼────────────────────────┼───────────────┤\n",
       "│ dense_1 (\u001b[38;5;33mDense\u001b[0m)                 │ (\u001b[38;5;45mNone\u001b[0m, \u001b[38;5;34m1\u001b[0m)              │            \u001b[38;5;34m51\u001b[0m │\n",
       "├─────────────────────────────────┼────────────────────────┼───────────────┤\n",
       "│ dense_2 (\u001b[38;5;33mDense\u001b[0m)                 │ (\u001b[38;5;45mNone\u001b[0m, \u001b[38;5;34m6\u001b[0m)              │            \u001b[38;5;34m12\u001b[0m │\n",
       "└─────────────────────────────────┴────────────────────────┴───────────────┘\n"
      ]
     },
     "metadata": {},
     "output_type": "display_data"
    },
    {
     "data": {
      "text/html": [
       "<pre style=\"white-space:pre;overflow-x:auto;line-height:normal;font-family:Menlo,'DejaVu Sans Mono',consolas,'Courier New',monospace\"><span style=\"font-weight: bold\"> Total params: </span><span style=\"color: #00af00; text-decoration-color: #00af00\">7,825,421</span> (29.85 MB)\n",
       "</pre>\n"
      ],
      "text/plain": [
       "\u001b[1m Total params: \u001b[0m\u001b[38;5;34m7,825,421\u001b[0m (29.85 MB)\n"
      ]
     },
     "metadata": {},
     "output_type": "display_data"
    },
    {
     "data": {
      "text/html": [
       "<pre style=\"white-space:pre;overflow-x:auto;line-height:normal;font-family:Menlo,'DejaVu Sans Mono',consolas,'Courier New',monospace\"><span style=\"font-weight: bold\"> Trainable params: </span><span style=\"color: #00af00; text-decoration-color: #00af00\">2,608,473</span> (9.95 MB)\n",
       "</pre>\n"
      ],
      "text/plain": [
       "\u001b[1m Trainable params: \u001b[0m\u001b[38;5;34m2,608,473\u001b[0m (9.95 MB)\n"
      ]
     },
     "metadata": {},
     "output_type": "display_data"
    },
    {
     "data": {
      "text/html": [
       "<pre style=\"white-space:pre;overflow-x:auto;line-height:normal;font-family:Menlo,'DejaVu Sans Mono',consolas,'Courier New',monospace\"><span style=\"font-weight: bold\"> Non-trainable params: </span><span style=\"color: #00af00; text-decoration-color: #00af00\">0</span> (0.00 B)\n",
       "</pre>\n"
      ],
      "text/plain": [
       "\u001b[1m Non-trainable params: \u001b[0m\u001b[38;5;34m0\u001b[0m (0.00 B)\n"
      ]
     },
     "metadata": {},
     "output_type": "display_data"
    },
    {
     "data": {
      "text/html": [
       "<pre style=\"white-space:pre;overflow-x:auto;line-height:normal;font-family:Menlo,'DejaVu Sans Mono',consolas,'Courier New',monospace\"><span style=\"font-weight: bold\"> Optimizer params: </span><span style=\"color: #00af00; text-decoration-color: #00af00\">5,216,948</span> (19.90 MB)\n",
       "</pre>\n"
      ],
      "text/plain": [
       "\u001b[1m Optimizer params: \u001b[0m\u001b[38;5;34m5,216,948\u001b[0m (19.90 MB)\n"
      ]
     },
     "metadata": {},
     "output_type": "display_data"
    }
   ],
   "source": [
    "model1.summary()"
   ]
  },
  {
   "cell_type": "markdown",
   "id": "d9fe52a3-e567-4324-85be-f63df7300ad5",
   "metadata": {},
   "source": [
    "모르겟음............. 걍 반쪽짜리임..."
   ]
  },
  {
   "cell_type": "code",
   "execution_count": null,
   "id": "55672f17-70b6-4e06-8f97-49279025a32f",
   "metadata": {},
   "outputs": [],
   "source": []
  }
 ],
 "metadata": {
  "kernelspec": {
   "display_name": "Python [conda env:base] *",
   "language": "python",
   "name": "conda-base-py"
  },
  "language_info": {
   "codemirror_mode": {
    "name": "ipython",
    "version": 3
   },
   "file_extension": ".py",
   "mimetype": "text/x-python",
   "name": "python",
   "nbconvert_exporter": "python",
   "pygments_lexer": "ipython3",
   "version": "3.12.7"
  }
 },
 "nbformat": 4,
 "nbformat_minor": 5
}
